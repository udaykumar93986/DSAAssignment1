{
 "cells": [
  {
   "cell_type": "markdown",
   "id": "d4eafdbc",
   "metadata": {},
   "source": [
    "# 1.Write a program to find all pairs of an integer array whose sum is equal to a given number?"
   ]
  },
  {
   "cell_type": "code",
   "execution_count": 14,
   "id": "0d52d3f7",
   "metadata": {},
   "outputs": [
    {
     "name": "stdout",
     "output_type": "stream",
     "text": [
      "Pairs whose sum is 7:\n",
      "5 + 2\n",
      "3 + 4\n",
      "1 + 6\n"
     ]
    }
   ],
   "source": [
    "function findPairs(array, targetSum) {\n",
    "  var pairs = [];\n",
    "\n",
    "  var complementMap = {};\n",
    "\n",
    "  for (var i = 0; i < array.length; i++) {\n",
    "    var num = array[i];\n",
    "    var complement = targetSum - num;\n",
    "    if (complementMap[complement]) {\n",
    "      pairs.push([num, complement]);\n",
    "    }\n",
    "    complementMap[num] = true;\n",
    "  }\n",
    "\n",
    "  return pairs;\n",
    "}\n",
    "var numbers = [2, 4, 5, 6, 3, 1];\n",
    "var target = 7;\n",
    "\n",
    "var pairs = findPairs(numbers, target);\n",
    "console.log(\"Pairs whose sum is\", target + \":\");\n",
    "pairs.forEach(function(pair) {\n",
    "  console.log(pair[0], \"+\", pair[1]);\n",
    "});"
   ]
  },
  {
   "cell_type": "markdown",
   "id": "729c9a9d",
   "metadata": {},
   "source": [
    "# 2.Write a program to reverse an array in place? In place means you cannot create a new array. You have to update the original array."
   ]
  },
  {
   "cell_type": "code",
   "execution_count": 12,
   "id": "7a65892e",
   "metadata": {},
   "outputs": [
    {
     "name": "stdout",
     "output_type": "stream",
     "text": [
      "Original array: [ 1, 2, 3, 4, 5 ]\n",
      "Reversed array: [ 5, 4, 3, 2, 1 ]\n"
     ]
    }
   ],
   "source": [
    "function reverseArrayInPlace(arr) {\n",
    "  var start = 0;\n",
    "  var end = arr.length - 1;\n",
    "  \n",
    "  while (start < end) {\n",
    "    var temp = arr[start];\n",
    "    arr[start] = arr[end];\n",
    "    arr[end] = temp;\n",
    "\n",
    "    start++;\n",
    "    end--;\n",
    "  }\n",
    "\n",
    "  return arr;\n",
    "}\n",
    "var array = [1, 2, 3, 4, 5];\n",
    "console.log(\"Original array:\", array);\n",
    "\n",
    "reverseArrayInPlace(array);\n",
    "console.log(\"Reversed array:\", array);"
   ]
  },
  {
   "cell_type": "markdown",
   "id": "3c1257fa",
   "metadata": {},
   "source": [
    "# 3.Write a program to check if two strings are a rotation of each other?#  Write a program to check if two strings are a rotation of each other?"
   ]
  },
  {
   "cell_type": "code",
   "execution_count": 13,
   "id": "6e41a173",
   "metadata": {},
   "outputs": [
    {
     "name": "stdout",
     "output_type": "stream",
     "text": [
      "true\n"
     ]
    }
   ],
   "source": [
    "function areRotations(str1, str2) {\n",
    "  if (str1.length !== str2.length) {\n",
    "    return false;\n",
    "  }\n",
    "\n",
    "  var concatenated = str1 + str1;\n",
    "  return concatenated.includes(str2);\n",
    "}\n",
    "var string1 = \"rotation\";\n",
    "var string2 = \"tionrota\";\n",
    "\n",
    "console.log(areRotations(string1, string2));"
   ]
  },
  {
   "cell_type": "markdown",
   "id": "9260d7d1",
   "metadata": {},
   "source": [
    "# 4.Write a program to print the first non-repeated character from a string?"
   ]
  },
  {
   "cell_type": "code",
   "execution_count": 15,
   "id": "28058fd9",
   "metadata": {},
   "outputs": [
    {
     "name": "stdout",
     "output_type": "stream",
     "text": [
      "The first non-repeated character is: c\n"
     ]
    }
   ],
   "source": [
    "function findFirstNonRepeatedChar(str) {\n",
    "  var charCount = {};\n",
    "\n",
    "  for (var i = 0; i < str.length; i++) {\n",
    "    var char = str[i];\n",
    "    if (charCount[char]) {\n",
    "      charCount[char]++;\n",
    "    } else {\n",
    "      charCount[char] = 1;\n",
    "    }\n",
    "  }\n",
    "\n",
    "  \n",
    "  for (var j = 0; j < str.length; j++) {\n",
    "    var char = str[j];\n",
    "    if (charCount[char] === 1) {\n",
    "      return char;\n",
    "    }\n",
    "  }\n",
    "\n",
    "  return null;\n",
    "}\n",
    "\n",
    "var inputString = \"aabbcde\";\n",
    "var firstNonRepeatedChar = findFirstNonRepeatedChar(inputString);\n",
    "\n",
    "if (firstNonRepeatedChar) {\n",
    "  console.log(\"The first non-repeated character is:\", firstNonRepeatedChar);\n",
    "} else {\n",
    "  console.log(\"There is no non-repeated character in the string.\");\n",
    "}"
   ]
  },
  {
   "cell_type": "markdown",
   "id": "4e91e52a",
   "metadata": {},
   "source": [
    "# 5.Read about the Tower of Hanoi algorithm. Write a program to implement it."
   ]
  },
  {
   "cell_type": "code",
   "execution_count": 16,
   "id": "4e1b12a7",
   "metadata": {},
   "outputs": [
    {
     "name": "stdout",
     "output_type": "stream",
     "text": [
      "Move disk 1 from A to C\n",
      "Move disk 2 from A to B\n",
      "Move disk 1 from C to B\n",
      "Move disk 3 from A to C\n",
      "Move disk 1 from B to A\n",
      "Move disk 2 from B to C\n",
      "Move disk 1 from A to C\n"
     ]
    }
   ],
   "source": [
    "function towerOfHanoi(n, source, auxiliary, destination) {\n",
    "  if (n === 1) {\n",
    "    console.log(\"Move disk 1 from\", source, \"to\", destination);\n",
    "    return;\n",
    "  }\n",
    "\n",
    "  towerOfHanoi(n - 1, source, destination, auxiliary);\n",
    "  console.log(\"Move disk\", n, \"from\", source, \"to\", destination);\n",
    "  towerOfHanoi(n - 1, auxiliary, source, destination);\n",
    "}\n",
    "\n",
    "var numberOfDisks = 3;\n",
    "var sourceRod = \"A\";\n",
    "var auxiliaryRod = \"B\";\n",
    "var destinationRod = \"C\";\n",
    "\n",
    "towerOfHanoi(numberOfDisks, sourceRod, auxiliaryRod, destinationRod);"
   ]
  },
  {
   "cell_type": "markdown",
   "id": "ef2de719",
   "metadata": {},
   "source": [
    "# 6.Read about infix, prefix, and postfix expressions. Write a program to convert postfix to prefix expression."
   ]
  },
  {
   "cell_type": "code",
   "execution_count": 17,
   "id": "cd976715",
   "metadata": {},
   "outputs": [
    {
     "name": "stdout",
     "output_type": "stream",
     "text": [
      "Prefix expression: +*234\n"
     ]
    }
   ],
   "source": [
    "function postfixToPrefix(postfix) {\n",
    "  var stack = [];\n",
    "\n",
    "  for (var i = 0; i < postfix.length; i++) {\n",
    "    var currentChar = postfix[i];\n",
    "\n",
    "    if (isOperand(currentChar)) {\n",
    "      stack.push(currentChar);\n",
    "    } else {\n",
    "      var operand2 = stack.pop();\n",
    "      var operand1 = stack.pop();\n",
    "      var prefixExpression = currentChar + operand1 + operand2;\n",
    "      stack.push(prefixExpression);\n",
    "    }\n",
    "  }\n",
    "\n",
    "  return stack.pop();\n",
    "}\n",
    "\n",
    "function isOperand(char) {\n",
    "  return /^[a-zA-Z0-9]+$/.test(char);\n",
    "}\n",
    "\n",
    "var postfixExpression = \"23*4+\";\n",
    "var prefixExpression = postfixToPrefix(postfixExpression);\n",
    "\n",
    "console.log(\"Prefix expression:\", prefixExpression);"
   ]
  },
  {
   "cell_type": "markdown",
   "id": "8803e33c",
   "metadata": {},
   "source": [
    "# 7.Write a program to convert prefix expression to infix expression."
   ]
  },
  {
   "cell_type": "code",
   "execution_count": 18,
   "id": "76e1cbf3",
   "metadata": {},
   "outputs": [
    {
     "name": "stdout",
     "output_type": "stream",
     "text": [
      "Infix expression: ((2*3)+4)\n"
     ]
    }
   ],
   "source": [
    "function prefixToInfix(prefix) {\n",
    "  var stack = [];\n",
    "\n",
    "  for (var i = prefix.length - 1; i >= 0; i--) {\n",
    "    var currentChar = prefix[i];\n",
    "\n",
    "    if (isOperand(currentChar)) {\n",
    "      stack.push(currentChar);\n",
    "    } else {\n",
    "      var operand1 = stack.pop();\n",
    "      var operand2 = stack.pop();\n",
    "      var infixExpression = \"(\" + operand1 + currentChar + operand2 + \")\";\n",
    "      stack.push(infixExpression);\n",
    "    }\n",
    "  }\n",
    "\n",
    "  return stack.pop();\n",
    "}\n",
    "\n",
    "function isOperand(char) {\n",
    "  return /^[a-zA-Z0-9]+$/.test(char);\n",
    "}\n",
    "\n",
    "var prefixExpression = \"+*234\";\n",
    "var infixExpression = prefixToInfix(prefixExpression);\n",
    "\n",
    "console.log(\"Infix expression:\", infixExpression);\n"
   ]
  },
  {
   "cell_type": "markdown",
   "id": "5c0b48ed",
   "metadata": {},
   "source": [
    "# 8.Write a program to check if all the brackets are closed in a given code snippet. "
   ]
  },
  {
   "cell_type": "code",
   "execution_count": 19,
   "id": "62d39192",
   "metadata": {},
   "outputs": [
    {
     "name": "stdout",
     "output_type": "stream",
     "text": [
      "All brackets are closed.\n"
     ]
    }
   ],
   "source": [
    "function areBracketsClosed(code) {\n",
    "  var stack = [];\n",
    "  var bracketPairs = {\n",
    "    \"(\": \")\",\n",
    "    \"[\": \"]\",\n",
    "    \"{\": \"}\",\n",
    "  };\n",
    "\n",
    "  for (var i = 0; i < code.length; i++) {\n",
    "    var currentChar = code[i];\n",
    "\n",
    "    if (isOpenBracket(currentChar)) {\n",
    "      stack.push(currentChar);\n",
    "    } else if (isCloseBracket(currentChar)) {\n",
    "      var lastOpeningBracket = stack.pop();\n",
    "      var expectedClosingBracket = bracketPairs[lastOpeningBracket];\n",
    "\n",
    "      if (currentChar !== expectedClosingBracket) {\n",
    "        return false;\n",
    "      }\n",
    "    }\n",
    "  }\n",
    "\n",
    "  return stack.length === 0;\n",
    "}\n",
    "\n",
    "function isOpenBracket(char) {\n",
    "  return /^[({[]$/.test(char);\n",
    "}\n",
    "\n",
    "function isCloseBracket(char) {\n",
    "  return /^[)}\\]]$/.test(char);\n",
    "}\n",
    "var codeSnippet = \"function test() { if (x > 0) { console.log('Positive'); } }\";\n",
    "var bracketsClosed = areBracketsClosed(codeSnippet);\n",
    "\n",
    "if (bracketsClosed) {\n",
    "  console.log(\"All brackets are closed.\");\n",
    "} else {\n",
    "  console.log(\"Some brackets are not closed properly.\");\n",
    "}\n"
   ]
  },
  {
   "cell_type": "markdown",
   "id": "3aac08a5",
   "metadata": {},
   "source": [
    "# 9.Write a program to reverse a stack. "
   ]
  },
  {
   "cell_type": "code",
   "execution_count": 20,
   "id": "91fe3e9c",
   "metadata": {},
   "outputs": [
    {
     "name": "stdout",
     "output_type": "stream",
     "text": [
      "Original stack: [ 1, 2, 3, 4 ]\n",
      "Reversed stack: [ 4, 3, 2, 1 ]\n"
     ]
    }
   ],
   "source": [
    "class Stack {\n",
    "  constructor() {\n",
    "    this.items = [];\n",
    "  }\n",
    "\n",
    "  push(item) {\n",
    "    this.items.push(item);\n",
    "  }\n",
    "\n",
    "  pop() {\n",
    "    if (this.isEmpty()) {\n",
    "      return null;\n",
    "    }\n",
    "    return this.items.pop();\n",
    "  }\n",
    "\n",
    "  peek() {\n",
    "    if (this.isEmpty()) {\n",
    "      return null;\n",
    "    }\n",
    "    return this.items[this.items.length - 1];\n",
    "  }\n",
    "\n",
    "  isEmpty() {\n",
    "    return this.items.length === 0;\n",
    "  }\n",
    "\n",
    "  size() {\n",
    "    return this.items.length;\n",
    "  }\n",
    "}\n",
    "\n",
    "function reverseStack(stack) {\n",
    "  var auxiliaryStack = new Stack();\n",
    "\n",
    "  while (!stack.isEmpty()) {\n",
    "    auxiliaryStack.push(stack.pop());\n",
    "  }\n",
    "\n",
    "  return auxiliaryStack;\n",
    "}\n",
    "\n",
    "// Example usage\n",
    "var stack = new Stack();\n",
    "stack.push(1);\n",
    "stack.push(2);\n",
    "stack.push(3);\n",
    "stack.push(4);\n",
    "\n",
    "console.log(\"Original stack:\", stack.items);\n",
    "\n",
    "var reversedStack = reverseStack(stack);\n",
    "\n",
    "console.log(\"Reversed stack:\", reversedStack.items);"
   ]
  },
  {
   "cell_type": "markdown",
   "id": "c81b523b",
   "metadata": {},
   "source": [
    "# 10.Write a program to find the smallest number using a stack."
   ]
  },
  {
   "cell_type": "code",
   "execution_count": 30,
   "id": "9ee6afd8",
   "metadata": {},
   "outputs": [
    {
     "name": "stdout",
     "output_type": "stream",
     "text": [
      "2\n",
      "2\n"
     ]
    }
   ],
   "source": [
    "(function () {\n",
    "  function MinStack() {\n",
    "    this.stack = [];\n",
    "    this.minStack = [];\n",
    "  }\n",
    "\n",
    "  MinStack.prototype.push = function (value) {\n",
    "    this.stack.push(value);\n",
    "\n",
    "    if (this.minStack.length === 0 || value <= this.minStack[this.minStack.length - 1]) {\n",
    "      this.minStack.push(value);\n",
    "    }\n",
    "  };\n",
    "\n",
    "  MinStack.prototype.pop = function () {\n",
    "    if (this.stack.length === 0) {\n",
    "      return undefined;\n",
    "    }\n",
    "\n",
    "    const value = this.stack.pop();\n",
    "\n",
    "    if (value === this.minStack[this.minStack.length - 1]) {\n",
    "      this.minStack.pop();\n",
    "    }\n",
    "\n",
    "    return value;\n",
    "  };\n",
    "\n",
    "  MinStack.prototype.getMin = function () {\n",
    "    if (this.minStack.length === 0) {\n",
    "      return undefined;\n",
    "    }\n",
    "\n",
    "    return this.minStack[this.minStack.length - 1];\n",
    "  };\n",
    "\n",
    "  const stack = new MinStack();\n",
    "\n",
    "  stack.push(5);\n",
    "  stack.push(2);\n",
    "  stack.push(10);\n",
    "\n",
    "  console.log(stack.getMin());\n",
    "\n",
    "  stack.pop();\n",
    "\n",
    "  console.log(stack.getMin());\n",
    "})();\n"
   ]
  },
  {
   "cell_type": "code",
   "execution_count": null,
   "id": "e9f7b4d9",
   "metadata": {},
   "outputs": [],
   "source": []
  }
 ],
 "metadata": {
  "kernelspec": {
   "display_name": "JavaScript (Node.js)",
   "language": "javascript",
   "name": "javascript"
  },
  "language_info": {
   "file_extension": ".js",
   "mimetype": "application/javascript",
   "name": "javascript",
   "version": "18.15.0"
  }
 },
 "nbformat": 4,
 "nbformat_minor": 5
}
